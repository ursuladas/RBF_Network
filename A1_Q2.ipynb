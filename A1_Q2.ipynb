{
 "cells": [
  {
   "cell_type": "markdown",
   "id": "10ed93b9",
   "metadata": {},
   "source": [
    "Define values for Data Points"
   ]
  },
  {
   "cell_type": "code",
   "execution_count": 22,
   "id": "208eaa31",
   "metadata": {},
   "outputs": [
    {
     "name": "stdout",
     "output_type": "stream",
     "text": [
      "Requirement already satisfied: numpy in /Users/ursuladas/opt/anaconda3/envs/ece657_env/lib/python3.11/site-packages (1.25.0)\r\n"
     ]
    }
   ],
   "source": [
    "!pip install numpy"
   ]
  },
  {
   "cell_type": "code",
   "execution_count": 28,
   "id": "87d2cd7e",
   "metadata": {},
   "outputs": [
    {
     "name": "stdout",
     "output_type": "stream",
     "text": [
      "Range of i and j is :  [ 0  1  2  3  4  5  6  7  8  9 10 11 12 13 14 15 16 17 18 19 20] Type returned <class 'numpy.ndarray'>\n"
     ]
    }
   ],
   "source": [
    "def value_func(i):\n",
    "    return -2+0.2*i\n",
    "\n",
    "def value_gen(max_val):\n",
    "#    i_list=[x for x in range(max_val+1)]  # values that i and j can take\n",
    "#   print(i_list)\n",
    "    i_list = np.linspace(0, 20, num = 21,dtype=int)\n",
    "    print(\"Range of i and j is : \",i_list,\"Type returned\", type(i_list))\n",
    "    values_list=list(map(value_func,i_list))\n",
    "    return values_list\n",
    "\n",
    "values_list=value_gen(20)"
   ]
  },
  {
   "cell_type": "code",
   "execution_count": 30,
   "id": "8d6baa1b",
   "metadata": {},
   "outputs": [
    {
     "name": "stdout",
     "output_type": "stream",
     "text": [
      "[ 1.2  0.  -0.8 -0.8  1.2 -1.2 -2.  -1.6  1.2  0.6 -0.4  1.6 -1.8 -1.\n",
      "  1.8 -0.2 -1.4  0.4  2.   1.8  0.4  1.2  0.  -1.6 -0.2 -2.   1.  -1.6\n",
      " -0.6  1.  -0.2 -1.2 -2.  -0.4  1.8  0.2  1.8 -2.   0.8 -1.   2.   1.8\n",
      "  1.4 -1.   0.8 -0.2  1.  -0.8  1.8  0.6 -1.8  0.2  0.2  2.  -0.6  0.2\n",
      "  0.6  2.   0.8  0.8 -0.2  0.  -0.4  0.2  1.6 -0.4  0.4  1.  -0.8 -1.8\n",
      " -0.6 -2.   1.8 -1.2  1.4 -1.6 -1.2 -0.8 -0.2  2.  -2.  -1.2 -0.4 -0.4\n",
      "  1.4 -1.6 -1.4  1.  -1.   2.   0.8  0.6 -1.4  1.2 -0.8  2.   1.6 -0.8\n",
      " -0.2  1.6  1.4 -0.8 -1.4 -0.6 -1.2  1.6  0.2 -1.8 -1.  -1.8  0.   0.8\n",
      "  0.6 -1.6 -1.  -0.2  1.2 -2.  -0.8 -0.8 -0.2 -1.8 -0.2  1.8 -0.4 -0.8\n",
      "  1.8  0.6  1.   0.  -1.6  1.8 -0.4 -1.6  2.   0.   1.4 -1.  -0.8 -0.2\n",
      "  0.2  0.4 -1.  -1.  -0.2 -1.  -1.2  0.4  1.6 -0.2  0.4 -1.2  2.  -1.6\n",
      " -1.8  1.2  1.   1.  -0.8  1.4 -1.   0.4  1.6 -1.8  1.8  1.2  0.2  2.\n",
      "  0.4 -0.8 -0.2 -1.4  1.  -1.  -0.4 -1.8 -0.4 -1.6 -2.  -0.6 -0.6  2.\n",
      "  1.8  0.2 -0.8 -1.6  1.4 -1.  -1.2 -1.4  0.2  1.8  1.2 -0.8  1.   1.6\n",
      " -0.2  1.6 -0.2 -1.6  0.8  0.8 -1.4 -0.4 -1.2 -1.6  1.6  0.4 -1.   0.8\n",
      "  1.4  0.   1.4  1.8 -1.2 -0.8  0.2 -1.2 -0.4 -0.4 -1.2  1.6  1.8 -0.4\n",
      " -0.2  0.8  1.   1.8 -1.2 -1.2  1.2 -1.2  0.8 -1.4 -2.   2.  -0.4  1.2\n",
      " -2.   2.   0.6 -0.2  0.   1.6  1.   2.  -1.2 -0.6 -0.4  0.4  0.8 -1.6\n",
      "  0.4  1.2  0.8 -0.8 -0.6  0.  -1.2  0.  -0.4  1.   1.4 -0.6  1.   0.2\n",
      "  0.4  0.8 -1.2  0.  -1.6  1.4  1.2 -0.6 -1.6 -0.2  1.2  1.8 -1.8  1.2\n",
      " -0.2  0.6 -0.6  1.2  0.6 -0.8  0.  -0.4 -1.8  0.2  0.2 -0.2 -0.2 -0.8\n",
      " -0.6 -1.  -1.4  1.  -1.6  1.  -0.8 -0.4  1.6  1.6 -2.   1.8  2.   1.\n",
      " -2.  -1.6  0.6 -0.4  0.6  1.2 -0.6 -1.8 -1.  -0.8  1.4 -0.6  0.2  1.8\n",
      " -0.8 -1.6  2.   1.   0.8  1.6  1.2  0.4  0.4  1.2  1.6  1.   0.   1.\n",
      " -1.6  1.8 -1.8  1.6  1.2  1.  -0.2  0.4  0.8 -1.  -0.4 -0.8 -1.2 -0.4\n",
      " -0.8  1.6 -0.6  0.   0.  -0.2 -1.2 -1.4  0.8 -0.2  1.6  1.6 -1.4 -1.4\n",
      " -2.  -0.6  0.8  0.4 -0.6 -1.4  0.4 -1.8  0.6 -1.6  0.4  1.2 -0.6  0.4\n",
      " -2.   1.6  0.  -2.  -1.8 -1.  -0.4  2.   1.2 -1.  -0.6 -1.   0.4 -1.\n",
      " -1.2 -0.2  0.4 -0.4  0.6 -0.8  1.4 -0.2 -1.8 -1.8  1.2 -1.   0.6  0.4\n",
      " -1.6 -0.8  1.6 -0.8  0.4  0.   0.   1.2 -1.4  1.4  1.  -1.2 -0.4 -0.8\n",
      "  0.4 -2.  -1.4  0.2  1.8  0.   0.  -1.2  1.6 -1.2 -2.  -1.   0.8  0.\n",
      " -0.2  1.2 -1.6 -1.   2.  -0.8 -1. ]\n",
      "Shape is: (441,)\n"
     ]
    },
    {
     "data": {
      "text/plain": [
       "<function __main__.random_train_samples(value_list)>"
      ]
     },
     "execution_count": 30,
     "metadata": {},
     "output_type": "execute_result"
    }
   ],
   "source": [
    "def random_train_samples(value_list):\n",
    "    train_samples=np.random.choice(value_list,size=441,replace=True)\n",
    "    print(train_samples)\n",
    "    print(\"Shape is:\",train_samples.shape)\n",
    "    return random_train_samples\n",
    "random_train_samples(values_list)"
   ]
  }
 ],
 "metadata": {
  "kernelspec": {
   "display_name": "Python 3 (ipykernel)",
   "language": "python",
   "name": "python3"
  },
  "language_info": {
   "codemirror_mode": {
    "name": "ipython",
    "version": 3
   },
   "file_extension": ".py",
   "mimetype": "text/x-python",
   "name": "python",
   "nbconvert_exporter": "python",
   "pygments_lexer": "ipython3",
   "version": "3.11.3"
  }
 },
 "nbformat": 4,
 "nbformat_minor": 5
}
